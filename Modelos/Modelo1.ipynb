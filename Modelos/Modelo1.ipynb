{
 "cells": [
  {
   "attachments": {},
   "cell_type": "markdown",
   "metadata": {},
   "source": [
    "## Modelo de optimización - Gestión de activos\n",
    "\n",
    "Referencias:\n",
    "\n",
    "An efficient mixed-integer linear formulation for long-term overhead lines maintenance scheduling in power distribution systems,’’ IEEE Trans. Power Del., vol. 24, no. 4, pp. 2043–2053, Oct. 2009]).\n",
    "\n",
    "### Librerías"
   ]
  },
  {
   "cell_type": "code",
   "execution_count": null,
   "metadata": {},
   "outputs": [],
   "source": [
    "import pandas as pd #manejo de datos\n",
    "from pyomo.environ import * #optimización\n",
    "import numpy as np"
   ]
  },
  {
   "cell_type": "code",
   "execution_count": null,
   "metadata": {},
   "outputs": [],
   "source": [
    "def create_dict(df):\n",
    "    d = {}\n",
    "    for i in df.index:\n",
    "        for j in df.columns:\n",
    "            d[i,j] = df.loc[i,j]\n",
    "    return d\n",
    "\n",
    "def T_dict(T, array):\n",
    "    data = pd.DataFrame(index = T, data={\"data\":array})[\"data\"].to_dict()\n",
    "    return data"
   ]
  },
  {
   "attachments": {},
   "cell_type": "markdown",
   "metadata": {},
   "source": [
    "### Crear modelo"
   ]
  },
  {
   "cell_type": "code",
   "execution_count": null,
   "metadata": {},
   "outputs": [],
   "source": [
    "model = ConcreteModel()"
   ]
  },
  {
   "attachments": {},
   "cell_type": "markdown",
   "metadata": {},
   "source": [
    "### Sets"
   ]
  },
  {
   "cell_type": "code",
   "execution_count": null,
   "metadata": {},
   "outputs": [],
   "source": [
    "# Alimentadores (indice i)\n",
    "N = list(range(1,12))\n",
    "model.N = Set(initialize=N)\n",
    "# Tasas de falla desacopladas o tareas de mantenimiento (indice k)\n",
    "ND = [\"minor\",\"major\",\"tree\"]\n",
    "model.ND = Set(initialize=ND)\n",
    "# Periodo de planeación\n",
    "T = list(range(1,11))\n",
    "model.T = Set(initialize=T)"
   ]
  },
  {
   "attachments": {},
   "cell_type": "markdown",
   "metadata": {},
   "source": [
    "### Parámetros"
   ]
  },
  {
   "cell_type": "code",
   "execution_count": null,
   "metadata": {},
   "outputs": [],
   "source": [
    "# Precio por hora necesaria para mantenimiento preventivo ($/h)\n",
    "model.C_labor_maintenance =  Param(model.ND, initialize = {\"minor\":2.5, \"major\":2.5, \"tree\":5}) \n",
    "\n",
    "# Precio por hora necesaria para reparación por falla ($/h)\n",
    "model.C_labor_repair=  Param(model.ND, initialize = {\"minor\":2.5, \"major\":2.5, \"tree\":2.5}) \n",
    "\n",
    "# Precio de los materiales usados ​​necesarios para la actividad k de mantenimiento del alimentador i ($/km)\n",
    "C_MMaterial = pd.read_excel(\"Data.xlsx\", \"C_MMaterial\", index_col=0)\n",
    "model.C_MMaterial = Param(model.N, model.ND, initialize = create_dict(C_MMaterial), domain = Any)\n",
    "\n",
    "# Precio de los materiales usados ​​necesarios para la reparación de la averia k ocurrida en el alimentador i ($)\n",
    "C_RMaterial = pd.read_excel(\"Data.xlsx\", \"C_RMaterial\", index_col=0)\n",
    "model.C_RMaterial = Param(model.N, model.ND, initialize = create_dict(C_RMaterial), domain = Any)\n",
    "\n",
    "# Duración promedio de la interrupción vista por el cliente j debido a la actividad de mantenimiento k del alimentador i (h).\n",
    "model.d_POutage = Param(model.ND, initialize = {\"minor\":1, \"major\":2, \"tree\":0}) \n",
    "\n",
    "# Duración promedio de la interrupción vista por el cliente j debido a una falla k del alimentador i (h).\n",
    "model.d_UPOutage = Param(model.ND, initialize = {\"minor\":1, \"major\":6, \"tree\":1}) \n",
    "\n",
    "# Tasa de descuento anual\n",
    "model.DR = Param(initialize = 0.1)\n",
    "\n",
    "# Número de horas de trabajo necesarias para la actividad de mantenimiento k del alimentador i (h/km)\n",
    "Labor_maintenance = pd.read_excel(\"Data.xlsx\", \"Labor_maintenance\", index_col=0)\n",
    "model.Labor_maintenance = Param(model.N, model.ND, initialize = create_dict(Labor_maintenance), domain = Any)\n",
    "\n",
    "# Número de horas de trabajo necesarias para la reparación k del alimentador i (h)\n",
    "Labor_repair = pd.read_excel(\"Data.xlsx\", \"Labor_repair\", index_col=0)\n",
    "model.Labor_repair = Param(model.N, model.ND, initialize = create_dict(Labor_repair), domain = Any)\n",
    "\n",
    "feeder_data = pd.read_excel(\"Data.xlsx\", \"Feeder\", index_col=0)\n",
    "# Potencia media en cada alimentador i (MW)\n",
    "model.P = Param(model.N, initialize= T_dict(N, feeder_data[\"Average load\"].to_numpy()))\n",
    "# Numero de consumidores por alimentador\n",
    "NC = np.sum(feeder_data[\"customers\"].to_numpy())\n",
    "model.NC = Param(model.N, initialize= T_dict(N, feeder_data[\"customers\"].to_numpy()))\n",
    "# Costo de energía no suministrada planeada por megavatio-hora para el alimentador i ($/MWh)\n",
    "model.C_PUE = Param(model.N, initialize= T_dict(N, feeder_data[\"C_PUE\"].to_numpy()))\n",
    "# Costo de energía no suministrada no planificada por megavatio-hora para el alimentador i ($/MWh)\n",
    "model.C_UPUE = Param(model.N, initialize= T_dict(N, feeder_data[\"C_UPUE\"].to_numpy()))\n",
    "# Precio promedio de venta de energía por megavatio-hora en el alimentador i ($/MWh)\n",
    "model.PE = Param(model.N, initialize= T_dict(N, feeder_data[\"PE\"].to_numpy()))\n",
    "# Longitud de cada alimentador en km\n",
    "model.L = Param(model.N, initialize= T_dict(N, feeder_data[\"Length\"].to_numpy()))\n",
    "\n",
    "# Número de clientes afectados por el mantenimiento k en el alimentador i\n",
    "NC_M = pd.read_excel(\"Data.xlsx\", \"Customers_maintenance\", index_col=0)\n",
    "model.NC_M = Param(model.N, model.ND, initialize = create_dict(NC_M), domain = Any)\n",
    "\n",
    "# Número de clientes afectados por la k falla ocurrida en el alimentador i\n",
    "NC_F = pd.read_excel(\"Data.xlsx\", \"Customers_failure\", index_col=0)\n",
    "model.NC_F = Param(model.N, model.ND, initialize = create_dict(NC_F), domain = Any)\n",
    "\n",
    "# Tasa de incremento anual de la demanda\n",
    "model.q = Param(initialize = 0.03)\n",
    "# Tasa de descuento anual\n",
    "model.DR = Param(initialize = 0.1)\n",
    "\n",
    "\n",
    "t_data = pd.read_excel(\"Data.xlsx\", \"t_data\", index_col=0)\n",
    "# Presupuesto asignado a mantenimiento en el periodo t\n",
    "model.Budget = Param(model.T, initialize= T_dict(t_data.index, t_data[\"Budget\"].to_numpy()))\n",
    "# Número de horas de trabajo disponibles en el periodo t para mantenimiento menor y mayor o reparación de averías menores y mayores\n",
    "model.Labor = Param(model.T, initialize= T_dict(t_data.index, t_data[\"Labor\"].to_numpy()))\n",
    "# Número de horas de trabajo disponibles en el periodo t para poda de árboles o eliminación de fallas relacionadas con la vegetación.\n",
    "model.Labor_tt = Param(model.T, initialize= T_dict(t_data.index, t_data[\"Labor_tt\"].to_numpy()))\n",
    "# SAIFI máximo por año\n",
    "model.SAIFI = Param(model.T, initialize= T_dict(t_data.index, t_data[\"SAIFI\"].to_numpy()))\n",
    "# SAIDI máximo por año\n",
    "model.SAIDI = Param(model.T, initialize= T_dict(t_data.index, t_data[\"SAIDI\"].to_numpy()))\n",
    "\n",
    "\n",
    "K = pd.read_excel(\"Data.xlsx\", \"Failure_rate\", index_col=0)\n",
    "model.K = Param(model.T, model.ND, initialize = create_dict(K), domain = Any)"
   ]
  },
  {
   "attachments": {},
   "cell_type": "markdown",
   "metadata": {},
   "source": [
    "### Variables"
   ]
  },
  {
   "cell_type": "code",
   "execution_count": null,
   "metadata": {},
   "outputs": [],
   "source": [
    "# Variable binaria que es igual a 1 si la actividad de mantenimiento k se realiza en el alimentador i en el período t y 0 en caso contrario\n",
    "model.X = Var(model.ND, model.N, model.T, within=Binary) \n",
    "# k tasa de falla desacoplada del alimentador i en el período t que depende de la última vez que se realizó la actividad de mantenimiento en este alimentador (es decir, falla menor, falla mayor y poda de árboles).\n",
    "model.lam = Var(model.ND, model.N, model.T, within=NonNegativeReals) "
   ]
  },
  {
   "attachments": {},
   "cell_type": "markdown",
   "metadata": {},
   "source": [
    "### Funcion objetivo"
   ]
  },
  {
   "cell_type": "code",
   "execution_count": null,
   "metadata": {},
   "outputs": [],
   "source": [
    "def obj_rule(m):\n",
    "    return sum((((m.C_labor_maintenance[k]*m.Labor_maintenance[i,k] + m.C_MMaterial[i,k]) + m.P[i]*m.d_POutage[k](m.C_PUE[i]+m.PE[i])*((1+m.q)**(t-1)))*m.X[k,i,t] +\n",
    "                ((m.C_labor_repair[k]*m.Labor_repair[i,k] + m.C_RMaterial[i,k]) + m.P[i]*m.d_UPOutage[k](m.C_UPUE[i]+m.PE[i])*((1+m.q)**(t-1)))*m.lam[k,i,t])*(1/((1+m.DR)**t))\n",
    "                for k in m.ND for i in m.N for t in m.T)                         \n",
    "\n",
    "model.Obj=Objective(rule=obj_rule,sense=minimize)                  #Objetive=Objetive, maximizar Valor presente neto"
   ]
  },
  {
   "attachments": {},
   "cell_type": "markdown",
   "metadata": {},
   "source": [
    "### Restricciones"
   ]
  },
  {
   "cell_type": "code",
   "execution_count": null,
   "metadata": {},
   "outputs": [],
   "source": [
    "def budget_rule(m,t):\n",
    "    return sum(((m.C_labor_maintenance[k]*m.Labor_maintenance[i,k] + m.C_MMaterial[i,k]) + m.P[i]*m.d_POutage[k](m.C_PUE[i]+m.PE[i])*((1+m.q)**(t-1)))*m.X[k,i,t] +\n",
    "            ((m.C_labor_repair[k]*m.Labor_repair[i,k] + m.C_RMaterial[i,k]) + m.P[i]*m.d_UPOutage[k](m.C_UPUE[i]+m.PE[i])*((1+m.q)**(t-1)))*m.lam[k,i,t] for k in m.ND for i in m.N) <= m.Budget[t]\n",
    "model.budget_rule=Constraint(model.T,rule=budget_rule)\n",
    "\n",
    "def labor_rule(m,t):\n",
    "    return sum(m.Labor_maintenance[i,k]*m.X[k,i,t] + m.Labor_repair[i,k]*m.lam[k,i,t] for k in ND[:-1] for i in m.N) <= m.Labor(t)\n",
    "model.labor_rule=Constraint(model.T,rule=labor_rule)\n",
    "\n",
    "def labor_tt_rule(m,t):\n",
    "    return sum(m.Labor_maintenance[i,k]*m.X[k,i,t] + m.Labor_repair[i,k]*m.lam[k,i,t] for k in [ND[-1]] for i in m.N) <= m.Labor(t)\n",
    "model.labor_tt_rule=Constraint(model.T,rule=labor_tt_rule)\n"
   ]
  },
  {
   "cell_type": "code",
   "execution_count": null,
   "metadata": {},
   "outputs": [],
   "source": [
    "def saifi_rule(m,t):\n",
    "    return sum(m.lam[k,i,t]*(NC_F[i,k]/NC) + m.X[k,i,t]*(NC_M[i,k]/NC) for k in model.ND for i in m.N) <= m.SAIFI(t)\n",
    "model.saifi_rule = Constraint(model.T,rule=saifi_rule)\n",
    "\n",
    "def saidi_rule(m,t):\n",
    "    return sum(m.lam[k,i,t]*(m.d_UPOutage[k]/NC) + m.X[k,i,t]*(m.d_POutage[k]/NC) for k in model.ND for i in m.N) <= m.SAIDI(t)\n",
    "model.saidi_rule = Constraint(model.T,rule=saidi_rule)\n",
    "\n",
    "def single_minor_major(m,t,i):\n",
    "    return sum(m.X[k,i,t] for k in ND[:-1]) <= 1\n",
    "model.single_minor_major = Constraint(model.T, model.N,rule=single_minor_major)"
   ]
  },
  {
   "cell_type": "code",
   "execution_count": null,
   "metadata": {},
   "outputs": [],
   "source": [
    "def falure_rate_din(m,i,t,j,k):\n",
    "    return m.lam[k,i,t] >= m.K[j,k]*m.L[i]*(1-sum(m.X[k,i,t-n] for n in list(range(0,j)))) \n",
    "model.falure_rate_din = Constraint(model.N, model.T, model.T, model.ND, rule=falure_rate_din)\n",
    "\n",
    "def falure_rate_0(m,i,t,k):\n",
    "    return m.lam[k,i,t] >= m.K[m.T.first(),k]*m.L[i]*m.X[k,i,t]\n",
    "model.falure_rate_0 = Constraint(model.N, model.T, model.ND, rule=falure_rate_0)"
   ]
  },
  {
   "cell_type": "code",
   "execution_count": null,
   "metadata": {},
   "outputs": [],
   "source": []
  }
 ],
 "metadata": {
  "kernelspec": {
   "display_name": "base",
   "language": "python",
   "name": "python3"
  },
  "language_info": {
   "codemirror_mode": {
    "name": "ipython",
    "version": 3
   },
   "file_extension": ".py",
   "mimetype": "text/x-python",
   "name": "python",
   "nbconvert_exporter": "python",
   "pygments_lexer": "ipython3",
   "version": "3.8.13"
  },
  "orig_nbformat": 4,
  "vscode": {
   "interpreter": {
    "hash": "ad2bdc8ecc057115af97d19610ffacc2b4e99fae6737bb82f5d7fb13d2f2c186"
   }
  }
 },
 "nbformat": 4,
 "nbformat_minor": 2
}
